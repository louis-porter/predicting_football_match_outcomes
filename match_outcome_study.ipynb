{
 "cells": [
  {
   "cell_type": "markdown",
   "metadata": {},
   "source": [
    "# Predicting Football Match Outcomes"
   ]
  },
  {
   "cell_type": "markdown",
   "metadata": {},
   "source": [
    "### Introduction\n",
    "\n",
    "This Python project aims to predict the outcome of football matches by predicting the expected goals a team will produce based on data known prior to the game related to team and opponent strength. \n",
    "\n",
    "The data is sourced from: https://beatthebookie.blog/download-excel-files/."
   ]
  },
  {
   "cell_type": "markdown",
   "metadata": {},
   "source": [
    "### Data Loading"
   ]
  },
  {
   "cell_type": "code",
   "execution_count": 199,
   "metadata": {},
   "outputs": [],
   "source": [
    "import _sqlite3\n",
    "import pandas as pd\n",
    "\n",
    "# Loads in the data from the SQLite3 database\n",
    "conn = _sqlite3.connect(\"data/historic_matches.db\")\n",
    "query = \"SELECT DISTINCT * FROM match_data\"\n",
    "df = pd.read_sql_query(query, conn)\n"
   ]
  },
  {
   "cell_type": "markdown",
   "metadata": {},
   "source": [
    "### Data Pre-processing"
   ]
  },
  {
   "cell_type": "code",
   "execution_count": 200,
   "metadata": {},
   "outputs": [
    {
     "name": "stdout",
     "output_type": "stream",
     "text": [
      "                         object\n",
      "division_id              object\n",
      "division                 object\n",
      "season_id                object\n",
      "season                   object\n",
      "match_date               object\n",
      "match_teams              object\n",
      "home_team_id             object\n",
      "home_team                object\n",
      "away_team_id             object\n",
      "away_team                object\n",
      "home_num_players         object\n",
      "home_market_value        object\n",
      "home_avg_market_value    object\n",
      "away_num_players         object\n",
      "away_market_value        object\n",
      "away_avg_market_value    object\n",
      "home_goals               object\n",
      "away_goals               object\n",
      "home_shots               object\n",
      "away_shots               object\n",
      "home_shots_on_target     object\n",
      "away_shots_on_target     object\n",
      "home_corners             object\n",
      "away_corners             object\n",
      "home_yellow              object\n",
      "away_yellow              object\n",
      "home_red                 object\n",
      "away_red                 object\n",
      "home_xgoals              object\n",
      "away_xgoals              object\n",
      "home_deep                object\n",
      "away_deep                object\n",
      "home_ppda                object\n",
      "away_ppda                object\n",
      "bet365_home_odds         object\n",
      "bet365_draw_odds         object\n",
      "bet365_away_odds         object\n",
      "bet365_u25_odds          object\n",
      "bet365_o25_odds          object\n",
      "dtype: object\n"
     ]
    }
   ],
   "source": [
    "print(df.dtypes)"
   ]
  },
  {
   "cell_type": "code",
   "execution_count": 201,
   "metadata": {},
   "outputs": [],
   "source": [
    "from sklearn.preprocessing import StandardScaler\n",
    "# Transforms the datatypes of the columns in the dataframe. Also scales the numeric columns\n",
    "df[\"match_date\"] = pd.to_datetime(df[\"match_date\"])\n",
    "# creating a duplicate value of xG for the target variable (previous xG to be used as a feature)\n",
    "df['home_xgoals_y'] = pd.to_numeric(df['home_xgoals'], errors='coerce')\n",
    "df['away_xgoals_y'] = pd.to_numeric(df['away_xgoals'], errors='coerce')\n",
    "\n",
    "\n",
    "numeric_cols = [\"home_num_players\", \"home_market_value\", \"home_avg_market_value\", \"away_num_players\", \"away_market_value\", \"away_avg_market_value\",\n",
    "                \"home_goals\", \"away_goals\", \"home_shots\", \"away_shots\", \"home_shots_on_target\", \"away_shots_on_target\", \"home_corners\", \"away_corners\",\n",
    "                \"home_red\", \"away_red\", \"home_yellow\", \"away_yellow\", \"home_xgoals\", \"away_xgoals\", \"home_deep\", \"away_deep\", \"home_ppda\", \"away_ppda\",\n",
    "                \"bet365_home_odds\", \"bet365_away_odds\", \"bet365_draw_odds\", \"bet365_u25_odds\", \"bet365_o25_odds\"]\n",
    "\n",
    "for col in numeric_cols:\n",
    "    df[col] = pd.to_numeric(df[col], errors=\"coerce\")\n",
    "\n",
    "scaler = StandardScaler()\n",
    "df[numeric_cols] = scaler.fit_transform(df[numeric_cols]) #Scaling the numeric columns\n",
    "\n",
    "df[\"season\"] = pd.to_numeric(df[\"season\"].str[:4]) #converting season column to start year."
   ]
  },
  {
   "cell_type": "code",
   "execution_count": 202,
   "metadata": {},
   "outputs": [
    {
     "name": "stdout",
     "output_type": "stream",
     "text": [
      "                             0\n",
      "division_id                  0\n",
      "division                     0\n",
      "season_id                    0\n",
      "season                       0\n",
      "match_date                   0\n",
      "match_teams                  0\n",
      "home_team_id                 0\n",
      "home_team                    0\n",
      "away_team_id                 0\n",
      "away_team                    0\n",
      "home_num_players            64\n",
      "home_market_value           64\n",
      "home_avg_market_value       64\n",
      "away_num_players            65\n",
      "away_market_value           65\n",
      "away_avg_market_value       65\n",
      "home_goals                   3\n",
      "away_goals                   3\n",
      "home_shots                5218\n",
      "away_shots                4838\n",
      "home_shots_on_target      4838\n",
      "away_shots_on_target      4838\n",
      "home_corners              4838\n",
      "away_corners              4838\n",
      "home_yellow               4839\n",
      "away_yellow               4837\n",
      "home_red                  4837\n",
      "away_red                  4837\n",
      "home_xgoals               1244\n",
      "away_xgoals               1244\n",
      "home_deep                24225\n",
      "away_deep                24225\n",
      "home_ppda                24225\n",
      "away_ppda                24225\n",
      "bet365_home_odds            62\n",
      "bet365_draw_odds            62\n",
      "bet365_away_odds            62\n",
      "bet365_u25_odds          10488\n",
      "bet365_o25_odds          10488\n",
      "home_xgoals_y             1244\n",
      "away_xgoals_y             1244\n",
      "dtype: int64\n"
     ]
    }
   ],
   "source": [
    "# Investigating nulls\n",
    "null_counts = df.isnull().sum()\n",
    "print(null_counts)\n"
   ]
  },
  {
   "cell_type": "code",
   "execution_count": 203,
   "metadata": {},
   "outputs": [
    {
     "name": "stdout",
     "output_type": "stream",
     "text": [
      "                            0\n",
      "division_id                 0\n",
      "division                    0\n",
      "season_id                   0\n",
      "season                      0\n",
      "match_date                  0\n",
      "match_teams                 0\n",
      "home_team_id                0\n",
      "home_team                   0\n",
      "away_team_id                0\n",
      "away_team                   0\n",
      "home_num_players            0\n",
      "home_market_value           0\n",
      "home_avg_market_value       0\n",
      "away_num_players            0\n",
      "away_market_value           0\n",
      "away_avg_market_value       0\n",
      "home_goals                  2\n",
      "away_goals                  2\n",
      "home_shots                383\n",
      "away_shots                  3\n",
      "home_shots_on_target        3\n",
      "away_shots_on_target        3\n",
      "home_corners                3\n",
      "away_corners                3\n",
      "home_yellow                 4\n",
      "away_yellow                 3\n",
      "home_red                    3\n",
      "away_red                    3\n",
      "home_xgoals                 0\n",
      "away_xgoals                 0\n",
      "home_deep                   0\n",
      "away_deep                   0\n",
      "home_ppda                   0\n",
      "away_ppda                   0\n",
      "bet365_home_odds            6\n",
      "bet365_draw_odds            6\n",
      "bet365_away_odds            6\n",
      "bet365_u25_odds          5603\n",
      "bet365_o25_odds          5603\n",
      "home_xgoals_y               0\n",
      "away_xgoals_y               0\n",
      "dtype: int64\n"
     ]
    }
   ],
   "source": [
    "# Lots of the matches in the dataset are missing ppda/deep data, I want to use this is in the model so I will have to remove the matches that do not have this.\n",
    "df = df.dropna(subset=[\"home_ppda\"])\n",
    "null_counts = df.isnull().sum()\n",
    "print(null_counts)"
   ]
  },
  {
   "cell_type": "markdown",
   "metadata": {},
   "source": [
    "As you can see from above, we still have some missing values despite removing rows with missing ppda stats. Let's investigate this."
   ]
  },
  {
   "cell_type": "code",
   "execution_count": 204,
   "metadata": {},
   "outputs": [
    {
     "name": "stdout",
     "output_type": "stream",
     "text": [
      "       season        division\n",
      "7225     2018      Bundesliga\n",
      "12116    2018         La Liga\n",
      "25607    2016         Ligue 1\n",
      "37078    2020  Premier League\n",
      "37079    2020  Premier League\n",
      "...       ...             ...\n",
      "37453    2020  Premier League\n",
      "37454    2020  Premier League\n",
      "37455    2020  Premier League\n",
      "37456    2020  Premier League\n",
      "37457    2020  Premier League\n",
      "\n",
      "[383 rows x 2 columns]\n"
     ]
    }
   ],
   "source": [
    "# Printing the season and division of rows with null for home_shots\n",
    "missing_shots = df[df[\"home_shots\"].isnull()]\n",
    "print(missing_shots[[\"season\", \"division\"]])"
   ]
  },
  {
   "cell_type": "markdown",
   "metadata": {},
   "source": [
    "It appears that there are 3 random games from different seasons in 2018 and 2016, but there appears to be lots in the 2020 Premier League Seasons. I will now check to see if that is all of that season which means we can remove."
   ]
  },
  {
   "cell_type": "code",
   "execution_count": 205,
   "metadata": {},
   "outputs": [
    {
     "name": "stdout",
     "output_type": "stream",
     "text": [
      "                         380\n",
      "division_id              380\n",
      "division                 380\n",
      "season_id                380\n",
      "season                   380\n",
      "match_date               380\n",
      "match_teams              380\n",
      "home_team_id             380\n",
      "home_team                380\n",
      "away_team_id             380\n",
      "away_team                380\n",
      "home_num_players         380\n",
      "home_market_value        380\n",
      "home_avg_market_value    380\n",
      "away_num_players         380\n",
      "away_market_value        380\n",
      "away_avg_market_value    380\n",
      "home_goals               380\n",
      "away_goals               380\n",
      "home_shots                 0\n",
      "away_shots               380\n",
      "home_shots_on_target     380\n",
      "away_shots_on_target     380\n",
      "home_corners             380\n",
      "away_corners             380\n",
      "home_yellow              380\n",
      "away_yellow              380\n",
      "home_red                 380\n",
      "away_red                 380\n",
      "home_xgoals              380\n",
      "away_xgoals              380\n",
      "home_deep                380\n",
      "away_deep                380\n",
      "home_ppda                380\n",
      "away_ppda                380\n",
      "bet365_home_odds         380\n",
      "bet365_draw_odds         380\n",
      "bet365_away_odds         380\n",
      "bet365_u25_odds          380\n",
      "bet365_o25_odds          380\n",
      "home_xgoals_y            380\n",
      "away_xgoals_y            380\n",
      "dtype: int64\n"
     ]
    }
   ],
   "source": [
    "# Investigating nulls specifically in Premier League 2020 season\n",
    "prem_2020 = df[(df[\"division\"] == \"Premier League\") & (df[\"season\"] == 2020)]\n",
    "print(prem_2020.count())"
   ]
  },
  {
   "cell_type": "markdown",
   "metadata": {},
   "source": [
    "As you can see from above, the entire season is missing home shots, this presents an issue as the 2020 season is bang in the middle. Rather than removing that season from the dataset (as it would mess up future rolling avg calculations) I plan on estimating shots based on shots on target."
   ]
  },
  {
   "cell_type": "code",
   "execution_count": 206,
   "metadata": {},
   "outputs": [
    {
     "name": "stdout",
     "output_type": "stream",
     "text": [
      "0.22872732184962788\n"
     ]
    }
   ],
   "source": [
    "# Filtering data set to all Premier League seasons bar 2020 and working out the ratio of shots on target to shots.\n",
    "prem_games = df[(df[\"division\"] == \"Premier League\") & (df[\"season\"] != 2020)]\n",
    "shots = prem_games[\"home_shots\"].sum() + prem_games[\"away_shots\"].sum()\n",
    "shots_on_target = prem_games[\"home_shots_on_target\"].sum() + prem_games[\"away_shots_on_target\"].sum()\n",
    "shots_to_sot_ratio = (shots_on_target / shots)\n",
    "print(shots_to_sot_ratio)"
   ]
  },
  {
   "cell_type": "code",
   "execution_count": 207,
   "metadata": {},
   "outputs": [],
   "source": [
    "# Now we have ratio, time to set shots for Prem 2020 season as an estimated value.\n",
    "df.loc[(df[\"season\"] == 2020) & (df[\"division\"] == \"Premier League\"), \"home_shots\"] = (df[\"home_shots_on_target\"] / shots_to_sot_ratio)"
   ]
  },
  {
   "cell_type": "markdown",
   "metadata": {},
   "source": [
    "Now that season has been handled. For the remaining missig values I am just going to remove them from the dataset, as there are a few individual cases of missing goals (not replaeable by an estimate) and shots which will not have a large impact on the moving averages down the line as they are isolated."
   ]
  },
  {
   "cell_type": "code",
   "execution_count": 208,
   "metadata": {},
   "outputs": [
    {
     "name": "stdout",
     "output_type": "stream",
     "text": [
      "                            0\n",
      "division_id                 0\n",
      "division                    0\n",
      "season_id                   0\n",
      "season                      0\n",
      "match_date                  0\n",
      "match_teams                 0\n",
      "home_team_id                0\n",
      "home_team                   0\n",
      "away_team_id                0\n",
      "away_team                   0\n",
      "home_num_players            0\n",
      "home_market_value           0\n",
      "home_avg_market_value       0\n",
      "away_num_players            0\n",
      "away_market_value           0\n",
      "away_avg_market_value       0\n",
      "home_goals                  0\n",
      "away_goals                  0\n",
      "home_shots                  0\n",
      "away_shots                  0\n",
      "home_shots_on_target        0\n",
      "away_shots_on_target        0\n",
      "home_corners                0\n",
      "away_corners                0\n",
      "home_yellow                 1\n",
      "away_yellow                 0\n",
      "home_red                    0\n",
      "away_red                    0\n",
      "home_xgoals                 0\n",
      "away_xgoals                 0\n",
      "home_deep                   0\n",
      "away_deep                   0\n",
      "home_ppda                   0\n",
      "away_ppda                   0\n",
      "bet365_home_odds            6\n",
      "bet365_draw_odds            6\n",
      "bet365_away_odds            6\n",
      "bet365_u25_odds          5602\n",
      "bet365_o25_odds          5602\n",
      "home_xgoals_y               0\n",
      "away_xgoals_y               0\n",
      "dtype: int64\n"
     ]
    }
   ],
   "source": [
    "df = df.dropna(subset=[\"home_shots\"])\n",
    "df = df.dropna(subset=[\"home_goals\"])\n",
    "\n",
    "print(df.isnull().sum())"
   ]
  },
  {
   "cell_type": "markdown",
   "metadata": {},
   "source": [
    "So, we have removed nulls out of the features we plan to use. There are missing odds in the bet365 odds but for now we can leave these as they will not be used in training the model."
   ]
  },
  {
   "cell_type": "markdown",
   "metadata": {},
   "source": [
    "The last part of this stage of the project will be to unpivot the data set so that we don't have a home and away team for each match, but rather two rows of data for every match and we have a team and opponent. This is because I want to capture the home effect as a feature and not to build two separate models to capture home and away performance."
   ]
  },
  {
   "cell_type": "code",
   "execution_count": 209,
   "metadata": {},
   "outputs": [],
   "source": [
    "# Separates out the home vs away and allows every team to have an individual row of data. Allows us to feature engineer home effect easier.\n",
    "home_df = df[[\"division\", \"season\", \"match_date\",\n",
    "             \"home_team\", \"home_avg_market_value\", \"home_goals\", \"home_shots\", \"home_xgoals\", \"home_xgoals_y\", \"home_deep\", \"home_ppda\",\n",
    "             \"away_team\", \"away_avg_market_value\", \"away_goals\", \"away_shots\", \"away_xgoals\", \"away_deep\", \"away_ppda\"]].copy()\n",
    "home_df[\"home?\"] = 1\n",
    "home_df = home_df.rename(columns={\"home_team\":\"team\", \"home_avg_market_value\":\"avg_market_value\", \"home_goals\":\"goals\",\n",
    "             \"home_shots\":\"shots\", \"home_xgoals\":\"xG\", \"home_xgoals_y\":\"xG_y\", \"home_deep\":\"deep\", \"home_ppda\":\"ppda\",\n",
    "             \"away_team\":\"opponent_team\", \"away_avg_market_value\":\"opponent_avg_market_value\", \"away_goals\":\"opponent_goals\", \n",
    "             \"away_shots\": \"opponent_shots\", \"away_xgoals\": \"opponent_xG\", \"away_deep\":\"opponent_deep\", \"away_ppda\":\"opponent_ppda\"})\n",
    "\n",
    "away_df = df[[\"division\", \"season\", \"match_date\",\n",
    "                \"away_team\", \"away_avg_market_value\", \"away_goals\", \"away_shots\", \"away_xgoals\", \"away_xgoals_y\", \"away_deep\", \"away_ppda\",\n",
    "                \"home_team\", \"home_avg_market_value\", \"home_goals\", \"home_shots\", \"home_xgoals\", \"home_deep\", \"home_ppda\"]].copy()\n",
    "away_df[\"home?\"] = 0\n",
    "away_df = away_df.rename(columns={\"away_team\":\"team\", \"away_avg_market_value\":\"avg_market_value\", \"away_goals\":\"goals\",\n",
    "             \"away_shots\":\"shots\", \"away_xgoals\":\"xG\", \"away_xgoals_y\": \"xG_y\", \"away_deep\":\"deep\", \"away_ppda\":\"ppda\",\n",
    "             \"home_team\":\"opponent_team\", \"home_avg_market_value\":\"opponent_avg_market_value\", \"home_goals\":\"opponent_goals\", \n",
    "             \"home_shots\": \"opponent_shots\", \"home_xgoals\": \"opponent_xG\", \"home_deep\":\"opponent_deep\", \"home_ppda\":\"opponent_ppda\"})\n",
    "\n",
    "df = pd.concat([away_df, home_df])\n",
    "df.sort_values([\"match_date\", \"division\"], inplace=True)"
   ]
  },
  {
   "cell_type": "markdown",
   "metadata": {},
   "source": [
    "### Exploratory Data Analysis"
   ]
  },
  {
   "cell_type": "markdown",
   "metadata": {},
   "source": [
    "We are going to build a model for xG et's analyse both of this variable"
   ]
  },
  {
   "cell_type": "code",
   "execution_count": 210,
   "metadata": {},
   "outputs": [
    {
     "name": "stdout",
     "output_type": "stream",
     "text": [
      "count    36524.000000\n",
      "mean         1.375438\n",
      "std          0.868935\n",
      "min          0.000000\n",
      "25%          0.720000\n",
      "50%          1.211050\n",
      "75%          1.860000\n",
      "max          6.880000\n",
      "Name: xG_y, dtype: float64\n"
     ]
    },
    {
     "data": {
      "image/png": "[encoded data removed]",
      "text/plain": [
       "<Figure size 640x480 with 1 Axes>"
      ]
     },
     "metadata": {},
     "output_type": "display_data"
    }
   ],
   "source": [
    "import matplotlib.pyplot as plt\n",
    "print(df[\"xG_y\"].describe())\n",
    "\n",
    "plt.hist(df[\"xG_y\"], bins=30)\n",
    "plt.title(\"xG Histogram\")\n",
    "plt.show()\n"
   ]
  },
  {
   "cell_type": "code",
   "execution_count": null,
   "metadata": {},
   "outputs": [],
   "source": []
  }
 ],
 "metadata": {
  "kernelspec": {
   "display_name": ".venv",
   "language": "python",
   "name": "python3"
  },
  "language_info": {
   "codemirror_mode": {
    "name": "ipython",
    "version": 3
   },
   "file_extension": ".py",
   "mimetype": "text/x-python",
   "name": "python",
   "nbconvert_exporter": "python",
   "pygments_lexer": "ipython3",
   "version": "3.12.2"
  }
 },
 "nbformat": 4,
 "nbformat_minor": 2
}
